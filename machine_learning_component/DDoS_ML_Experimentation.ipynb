{
  "nbformat": 4,
  "nbformat_minor": 0,
  "metadata": {
    "colab": {
      "name": "DDoS_ML_Experimentation.ipynb",
      "provenance": []
    },
    "kernelspec": {
      "name": "python3",
      "display_name": "Python 3"
    },
    "language_info": {
      "name": "python"
    }
  },
  "cells": [
    {
      "cell_type": "code",
      "metadata": {
        "id": "K2bUgqNoxjmC"
      },
      "source": [
        "import pandas as pd\n",
        "import numpy as np\n",
        "from sklearn import metrics \n",
        "from sklearn.model_selection import train_test_split\n",
        "from matplotlib import pyplot\n",
        "\n",
        "\n",
        "def clean_dataset(df):\n",
        "    assert isinstance(df, pd.DataFrame), \"df needs to be a pd.DataFrame\"\n",
        "    df.dropna(inplace=True)\n",
        "    indices_to_keep = ~df.isin([np.nan, np.inf, -np.inf]).any(1)\n",
        "    return df[indices_to_keep].astype(np.float64)\n",
        "\n",
        "\n",
        "def rank_feature_importance(m, type=\"Logistic Regression\"):\n",
        "  if type == \"Random Forest\":\n",
        "    importance = m.feature_importances_\n",
        "  else:\n",
        "    importance = m.coef_[0]\n",
        "\n",
        "  for i,v in enumerate(importance):\n",
        "    print('Feature: %0d, Score: %.5f' % (i,v))\n",
        "  # plot feature importance\n",
        "  pyplot.bar([x for x in range(len(importance))], importance)\n",
        "  pyplot.show()\n",
        "\n",
        "  \n",
        "df = pd.read_csv('dataset_sdn.csv')\n",
        "\n",
        "unneeded_features = ['byteperflow','tot_dur','packetins', 'tx_bytes', 'rx_bytes','pktperflow', 'pktrate', 'src', 'dst', 'Protocol', 'dt', 'switch', 'dur', 'dur_nsec', 'flows', 'Pairflow', 'port_no', 'tx_kbps', 'rx_kbps', 'tot_kbps']\n",
        "\n",
        "for i in unneeded_features: del df[i]\n",
        "\n",
        "# Clean dataframe\n",
        "assert isinstance(df, pd.DataFrame), \"df needs to be a pd.DataFrame\"\n",
        "df.dropna(inplace=True)\n",
        "indices_to_keep = ~df.isin([np.nan, np.inf, -np.inf]).any(1)\n",
        "\n",
        "df = df[indices_to_keep].astype(np.float64)\n",
        "\n",
        "df.dropna(inplace=True)\n",
        "indices_to_keep = ~df.isin([np.nan, np.inf, -np.inf]).any(1)\n",
        "\n",
        "df = df[indices_to_keep].astype(np.float64)\n",
        "x = df.drop('label',axis = 1)\n",
        "y = df.label\n",
        "x_train, x_test, y_train, y_test = train_test_split(x, y)\n"
      ],
      "execution_count": null,
      "outputs": []
    },
    {
      "cell_type": "code",
      "metadata": {
        "id": "l3kYbm5--JyO"
      },
      "source": [
        "from sklearn.preprocessing import MinMaxScaler\n",
        "scaling = MinMaxScaler(feature_range=(-1,1)).fit(x_train)\n",
        "x_train = scaling.transform(x_train)\n",
        "x_test = scaling.transform(x_test)"
      ],
      "execution_count": null,
      "outputs": []
    },
    {
      "cell_type": "code",
      "metadata": {
        "colab": {
          "base_uri": "https://localhost:8080/"
        },
        "id": "QI0X394gAAG6",
        "outputId": "a1ac03ef-dae3-4051-8ab9-1b2c5fc0f23d"
      },
      "source": [
        "from sklearn.linear_model import LogisticRegression\n",
        "clf = LogisticRegression(max_iter=10000)\n",
        "clf.fit(x_train, y_train)\n",
        "y_pred=clf.predict(x_test)\n",
        "accuracy = metrics.accuracy_score(y_test, y_pred)\n",
        "accuracy_percentage = 100 * accuracy\n",
        "print(\"Logistic Regression Accuracy:\", accuracy_percentage)\n",
        "print(\"Precision:\", metrics.precision_score(y_test, y_pred))\n",
        "print(\"Recall:\", metrics.recall_score(y_test, y_pred))"
      ],
      "execution_count": null,
      "outputs": [
        {
          "output_type": "stream",
          "text": [
            "Logistic Regression Accuracy: 69.04205159658066\n",
            "Precision: 0.6204580884998201\n",
            "Recall: 0.5130391670798216\n"
          ],
          "name": "stdout"
        }
      ]
    },
    {
      "cell_type": "code",
      "metadata": {
        "colab": {
          "base_uri": "https://localhost:8080/"
        },
        "id": "t_2iyDsx-NmL",
        "outputId": "c0c930ca-d283-4af2-9ac1-a0c2831dc2ab"
      },
      "source": [
        "from sklearn.ensemble import RandomForestClassifier\n",
        "clf=RandomForestClassifier()\n",
        "clf.fit(x_train, y_train)\n",
        "y_pred=clf.predict(x_test)\n",
        "accuracy = metrics.accuracy_score(y_test, y_pred)\n",
        "accuracy_percentage = 100 * accuracy\n",
        "print(\"Random Forest Accuracy:\", accuracy_percentage)\n",
        "print(\"Precision:\",metrics.precision_score(y_test, y_pred))\n",
        "print(\"Recall:\",metrics.recall_score(y_test, y_pred))"
      ],
      "execution_count": null,
      "outputs": [
        {
          "output_type": "stream",
          "text": [
            "Random Forest Accuracy: 99.78916701805497\n",
            "Precision: 0.9966329966329966\n",
            "Recall: 0.9979176995537927\n"
          ],
          "name": "stdout"
        }
      ]
    },
    {
      "cell_type": "code",
      "metadata": {
        "colab": {
          "base_uri": "https://localhost:8080/"
        },
        "id": "aOlUrJJl-X8y",
        "outputId": "34f9b083-bc51-4139-dd3e-9fc539bb8db2"
      },
      "source": [
        "from sklearn import svm \n",
        "clf = svm.SVC(kernel='rbf', verbose=3)\n",
        "clf.fit(x_train, y_train)\n",
        "y_pred = clf.predict(x_test)\n",
        "accuracy = metrics.accuracy_score(y_test, y_pred)\n",
        "accuracy_percentage = 100 * accuracy\n",
        "print(\"SVM Accuracy:\", accuracy_percentage)\n",
        "print(\"Precision:\",metrics.precision_score(y_test, y_pred))\n",
        "print(\"Recall:\",metrics.recall_score(y_test, y_pred))"
      ],
      "execution_count": null,
      "outputs": [
        {
          "output_type": "stream",
          "text": [
            "[LibSVM]SVM Accuracy: 84.97335837773605\n",
            "Precision: 0.8157328689951859\n",
            "Recall: 0.7896876549330689\n"
          ],
          "name": "stdout"
        }
      ]
    },
    {
      "cell_type": "code",
      "metadata": {
        "colab": {
          "base_uri": "https://localhost:8080/"
        },
        "id": "UVKqA1P2IfXp",
        "outputId": "8060443d-2b68-48e6-bb71-20033802d3ed"
      },
      "source": [
        "from sklearn import svm \n",
        "clf = svm.SVC(kernel='linear', verbose=3)\n",
        "clf.fit(x_train, y_train)\n",
        "y_pred = clf.predict(x_test)\n",
        "accuracy = metrics.accuracy_score(y_test, y_pred)\n",
        "accuracy_percentage = 100 * accuracy\n",
        "print(\"SVM Accuracy:\", accuracy_percentage)\n",
        "print(\"Precision:\",metrics.precision_score(y_test, y_pred))\n",
        "print(\"Recall:\",metrics.recall_score(y_test, y_pred))"
      ],
      "execution_count": null,
      "outputs": [
        {
          "output_type": "stream",
          "text": [
            "[LibSVM]SVM Accuracy: 68.58971901713498\n",
            "Precision: 0.5918585446419897\n",
            "Recall: 0.6040654437283094\n"
          ],
          "name": "stdout"
        }
      ]
    },
    {
      "cell_type": "code",
      "metadata": {
        "colab": {
          "base_uri": "https://localhost:8080/"
        },
        "id": "isoQEPcqBARw",
        "outputId": "52ba28f9-65ad-485b-e29a-80b9d568d7e5"
      },
      "source": [
        "from sklearn.ensemble import ExtraTreesClassifier\n",
        "\n",
        "clf = ExtraTreesClassifier()\n",
        "clf.fit(x_train, y_train)\n",
        "y_pred = clf.predict(x_test)\n",
        "accuracy = metrics.accuracy_score(y_test, y_pred)\n",
        "accuracy_percentage = 100 * accuracy\n",
        "print(\"Extra Trees Accuracy:\", accuracy_percentage)\n",
        "print(\"Precision:\",metrics.precision_score(y_test, y_pred))\n",
        "print(\"Recall:\",metrics.recall_score(y_test, y_pred))"
      ],
      "execution_count": null,
      "outputs": [
        {
          "output_type": "stream",
          "text": [
            "Extra Trees Accuracy: 99.78916701805497\n",
            "Precision: 0.9966329966329966\n",
            "Recall: 0.9979176995537927\n"
          ],
          "name": "stdout"
        }
      ]
    }
  ]
}